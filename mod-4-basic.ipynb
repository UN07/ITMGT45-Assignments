{
 "cells": [
  {
   "cell_type": "code",
   "execution_count": 1,
   "id": "79a80401",
   "metadata": {},
   "outputs": [
    {
     "data": {
      "text/plain": [
       "6800"
      ]
     },
     "execution_count": 1,
     "metadata": {},
     "output_type": "execute_result"
    }
   ],
   "source": [
    "\n",
    "\n",
    "'''Module 2: Individual Programming Assignment 1\n",
    "\n",
    "Useful Business Calculations\n",
    "\n",
    "This assignment covers your basic proficiency with Python.\n",
    "'''\n",
    "\n",
    "def savings(gross_pay, tax_rate, expenses):\n",
    "    '''Savings.\n",
    "    2 points.\n",
    "\n",
    "    This function calculates the money remaining\n",
    "        for an employee after taxes and expenses.\n",
    "    \n",
    "    To get the take-home pay of an employee, we will\n",
    "        follow the following process:\n",
    "        1. Apply the tax rate to the gross pay of the employee; round down\n",
    "        2. Subtract the expenses from the after-tax pay of the employee\n",
    "\n",
    "    Parameters\n",
    "    ----------\n",
    "    gross_pay: int\n",
    "        the gross pay of an employee for a certain time period, expressed in centavos\n",
    "    tax_rate: float\n",
    "        the tax rate for a certain time period, expressed as a number between 0 and 1 (e.g., 0.12)\n",
    "    expenses: int\n",
    "        the expenses of an employee for a certain time period, expressed in centavos\n",
    "\n",
    "    Returns\n",
    "    -------\n",
    "    int\n",
    "        the number of centavos remaining from an employee's pay after taxes and expenses\n",
    "    '''\n",
    "    # Replace `pass` with your code. \n",
    "    # Stay within the function. Only use the parameters as input. The function should return your answer.\n",
    "    \n",
    "    gross_pay = int(gross_pay)\n",
    "    tax_rate = float(tax_rate)\n",
    "    expenses = int(expenses)\n",
    "    \n",
    "    tax_amount = int(gross_pay * tax_rate)\n",
    "    taxed = gross_pay - tax_amount\n",
    "    remaining = int(taxed-expenses)\n",
    "    \n",
    "    if 0 < tax_rate <= 1:\n",
    "        #print(gross_pay)\n",
    "        #print(expenses)\n",
    "        #print(tax_amount)\n",
    "        return remaining\n",
    "    else:\n",
    "        print(\"error\")\n",
    "\n",
    "\n",
    "\n",
    "#savings(54321.23551, 0.15, 321.1456415)\n",
    "#savings(8000.34532413, 5, 2000)\n",
    "savings(10000.99, 0.12, 2000.29)\n"
   ]
  },
  {
   "cell_type": "code",
   "execution_count": 2,
   "id": "dce23d79",
   "metadata": {},
   "outputs": [
    {
     "data": {
      "text/plain": [
       "'500kg'"
      ]
     },
     "execution_count": 2,
     "metadata": {},
     "output_type": "execute_result"
    }
   ],
   "source": [
    "def material_waste(total_material, material_units, num_jobs, job_consumption):\n",
    "    '''Material Waste.\n",
    "    2 points.\n",
    "\n",
    "    This function calculates how much material input will be wasted\n",
    "        after running a certain number of jobs that consume\n",
    "        a set amount of material.\n",
    "\n",
    "    To get the waste of a set of jobs:\n",
    "        1. Multiply the number of jobs by the material consumption per job.\n",
    "        2. Subtract the total material consumed from the total material available.\n",
    "\n",
    "    The users of this function also want you to format the output as a string, annotated with the\n",
    "        units in which the material is expressed. Do not add a space between the number and the unit.\n",
    "\n",
    "    Parameters\n",
    "    ----------\n",
    "    total_material: int\n",
    "        the total material available\n",
    "    material_units: str\n",
    "        the units used to express a quantity of the material (e.g., \"kg\", \"L\", etc.)\n",
    "    num_jobs: int\n",
    "        the number of jobs to run\n",
    "    job_consumption: int\n",
    "        the amount of material consumed per job\n",
    "\n",
    "    Returns\n",
    "    -------\n",
    "    str\n",
    "        the amount of remaining material expressed with its unit (e.g., \"10kg\").\n",
    "    '''\n",
    "    # Replace `pass` with your code. \n",
    "    # Stay within the function. Only use the parameters as input. The function should return your answer.\n",
    "    \n",
    "    total_material = int(total_material)\n",
    "    material_units = str(material_units)\n",
    "    num_jobs = int(num_jobs)\n",
    "    job_consumption = int(job_consumption)\n",
    "\n",
    "    job_waste = num_jobs * job_consumption\n",
    "    waste_set = str(total_material - job_waste)\n",
    "    material_left = waste_set + material_units\n",
    "    \n",
    "    \n",
    "    #print(total_material)\n",
    "    #print(num_jobs)\n",
    "    #print(job_consumption)\n",
    "    return material_left\n",
    "    \n",
    "\n",
    "material_waste(1000, \"kg\", 10, 50)\n",
    "#material_waste(100.235235, \"kg\", 10.35235, 525.9999)"
   ]
  },
  {
   "cell_type": "code",
   "execution_count": 3,
   "id": "221bbdcc",
   "metadata": {},
   "outputs": [
    {
     "data": {
      "text/plain": [
       "1960"
      ]
     },
     "execution_count": 3,
     "metadata": {},
     "output_type": "execute_result"
    }
   ],
   "source": [
    "def interest(principal, rate, periods):\n",
    "    '''Interest.\n",
    "    3 points.\n",
    "\n",
    "    This function calculates the final value of an investment after\n",
    "        gaining simple interest over a number of periods.\n",
    "\n",
    "    To calculate simple interest, simply multiply the principal to the quantity (rate * time). \n",
    "        Add this amount to the principal to get the final value.\n",
    "\n",
    "    Round down the final amount.\n",
    "\n",
    "    Parameters\n",
    "    ----------\n",
    "    principal: int\n",
    "        the principal (i.e., starting) amount invested, expressed in centavos\n",
    "    rate: float\n",
    "        the interest rate per period, expressed as a decimal representation of a percentage (e.g., 3% is 0.03)\n",
    "    periods: int\n",
    "        the number of periods invested\n",
    "\n",
    "    Returns\n",
    "    -------\n",
    "    int\n",
    "        the final value of the investment\n",
    "    '''\n",
    "    # Replace `pass` with your code. \n",
    "    # Stay within the function. Only use the parameters as input. The function should return your answer.\n",
    "    \n",
    "    principal = int(principal)\n",
    "    rate = float(rate)\n",
    "    periods = int(periods)\n",
    "    investment = int(principal*(1+(rate*periods)))\n",
    "    \n",
    "    \n",
    "    if 0 < rate <= 1:\n",
    "        #print(principal)\n",
    "        #print(periods)\n",
    "        return investment\n",
    "    else:\n",
    "        print(\"error\")\n",
    "\n",
    "#interest(1000.523525, 0.12, 5.99)\n",
    "#interest(1000.523525, 5, 5.99)\n",
    "interest(1000, 0.12, 8)"
   ]
  },
  {
   "cell_type": "code",
   "execution_count": 4,
   "id": "2fa89de9",
   "metadata": {},
   "outputs": [
    {
     "data": {
      "text/plain": [
       "11.478687014516886"
      ]
     },
     "execution_count": 4,
     "metadata": {},
     "output_type": "execute_result"
    }
   ],
   "source": [
    "def body_mass_index(weight, height):\n",
    "    '''Body Mass Index.\n",
    "    3 points.\n",
    "\n",
    "    This function calculates the body mass index (BMI) of a person\n",
    "        given their weight and height.\n",
    "\n",
    "    The formula for BMI is: kg / (m ^ 2)\n",
    "        (i.e., kilograms over meters squared)\n",
    "\n",
    "    Unfortunately, the users of this function use the imperial system.\n",
    "        You will need to first convert their arguments to the metric system.\n",
    "    \n",
    "    Parameters\n",
    "    ----------\n",
    "    weight: float\n",
    "        the weight of the person, in pounds\n",
    "    height: list\n",
    "        the height of the person, expressed as a list of two integers.\n",
    "        the first integer is the foot component of their height.\n",
    "        the second integer is the inches component of their height.\n",
    "        for example, 5'10\" would be passed as [5, 10].\n",
    "\n",
    "    Returns\n",
    "    -------\n",
    "    float\n",
    "        the BMI of the person.\n",
    "    '''\n",
    "    # Replace `pass` with your code. \n",
    "    # Stay within the function. Only use the parameters as input. The function should return your answer.\n",
    "    \n",
    "    weight = float(weight)\n",
    "    weight_kg = float(weight*0.45359237)\n",
    "    height = list(height)\n",
    "    height_m = (height[0]*12*0.0254)+(height[1]*0.0254)\n",
    "    \n",
    "    BMI = weight_kg/(height_m*height_m)\n",
    "    \n",
    "    return BMI\n",
    "body_mass_index(80, [5, 10])"
   ]
  }
 ],
 "metadata": {
  "kernelspec": {
   "display_name": "Python 3 (ipykernel)",
   "language": "python",
   "name": "python3"
  },
  "language_info": {
   "codemirror_mode": {
    "name": "ipython",
    "version": 3
   },
   "file_extension": ".py",
   "mimetype": "text/x-python",
   "name": "python",
   "nbconvert_exporter": "python",
   "pygments_lexer": "ipython3",
   "version": "3.9.13"
  }
 },
 "nbformat": 4,
 "nbformat_minor": 5
}
